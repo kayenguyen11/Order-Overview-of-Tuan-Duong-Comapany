{
 "cells": [
  {
   "cell_type": "markdown",
   "id": "d11e552e",
   "metadata": {},
   "source": [
    "TUAN DUONG COMPANY"
   ]
  },
  {
   "cell_type": "code",
   "execution_count": null,
   "id": "2582a2b2",
   "metadata": {},
   "outputs": [],
   "source": [
    "#import libraries\n",
    "import pandas as pd\n",
    "import numpy as np\n",
    "import pymysql\n",
    "\n",
    "import math \n",
    "#test more\n"
   ]
  },
  {
   "cell_type": "markdown",
   "id": "ec49155d",
   "metadata": {},
   "source": [
    "PHASE 1: DATA CLEANING\n",
    "Information about sales, orders, chats, products and traffic are exported to seperated excel files for each month from December 2022 to February 2023. \n",
    "In this phase, I will merge sales data of 3 months into one file and clean the data so that it can be used for calculation in the later phases. The same will be done for orders, chats, products and traffic datasets. Therefore, by the end of this phases, there will be 5 excel files:\n",
    "- sales overview data from December 2022 to February 2023\n",
    "- all orders data from December 2022 to February 2023\n",
    "- chats data from December 2022 to February 2023\n",
    "- products overview data from December 2022 to February 2023\n",
    "- traffic overview data from December 2022 to February 2023"
   ]
  },
  {
   "cell_type": "code",
   "execution_count": null,
   "id": "5bc7fca5",
   "metadata": {},
   "outputs": [],
   "source": [
    "#convert string to float/integer: 106.012,55 (str) -> 106012.55 (float)\n",
    "def string_to_numeric(df,column):\n",
    "     df[column] = pd.to_numeric(df[column].str.replace('.', '').str.replace(',', '.'), errors='coerce')\n",
    "\n",
    "#convert datatype of percentage from string to float: 82,98%(str) -> 0.8298 (float)\n",
    "def convert_percentage(df,column):\n",
    "    df[column] = pd.to_numeric(df[column].str.replace(',', '.').str.replace('%', ''), errors='coerce')\n",
    "    df[column] = df[column]/100\n",
    "\n",
    "# convert data from float to integer (SKU)\n",
    "def convert_to_string(df, column):\n",
    "    df[column] = df[column].fillna(0).astype(int)\n",
    "    \n",
    "#find and replace nan, blank values with None\n",
    "def fill_nan(df):\n",
    "    df = df.fillna('None',inplace=True)\n",
    "    \n",
    "#convert datetime from dd-mm-yyyy to yyyy-mm-dd    \n",
    "def convert_datetime(df, column):\n",
    "    df[column] = pd.to_datetime(df[column], errors='coerce', format='%d-%m-%Y')\n",
    "\n",
    "#convert string 'h-m-s' to time 'h-m-s'\n",
    "def convert_hms_time(df, column):\n",
    "    df[column] = pd.to_datetime(df[column],errors='coerce', format='%H:%M:%S').dt.time"
   ]
  },
  {
   "cell_type": "raw",
   "id": "9066b4ca",
   "metadata": {},
   "source": [
    "Step 1: Import and Merge sales data of December, January and February into one dataframe, then clean it."
   ]
  },
  {
   "cell_type": "code",
   "execution_count": null,
   "id": "d18ec29d",
   "metadata": {},
   "outputs": [
    {
     "name": "stdout",
     "output_type": "stream",
     "text": [
      "<class 'pandas.core.frame.DataFrame'>\n",
      "RangeIndex: 90 entries, 0 to 89\n",
      "Data columns (total 14 columns):\n",
      " #   Column                                                  Non-Null Count  Dtype         \n",
      "---  ------                                                  --------------  -----         \n",
      " 0   Ngày                                                    90 non-null     datetime64[ns]\n",
      " 1   Lượt truy cập                                           90 non-null     int64         \n",
      " 2   Khách đã đặt hàng, chưa thanh toán                      90 non-null     int64         \n",
      " 3   Sản phẩm khách chưa thanh toán                          90 non-null     int64         \n",
      " 4   Tất cả các đơn                                          90 non-null     int64         \n",
      " 5   Doanh số (Đơn đã đặt) (VND)                             90 non-null     int64         \n",
      " 6   Tỷ lệ chuyển đổi (Từ Lượt truy cập thành Đơn được đặt)  90 non-null     float64       \n",
      " 7   Người mua có đơn đã xác nhận                            90 non-null     int64         \n",
      " 8   Sản phẩm (Đơn đã xác nhận)                              90 non-null     int64         \n",
      " 9   Đơn đã xác nhận                                         90 non-null     int64         \n",
      " 10  Doanh số (Đơn đã xác nhận) (VND)                        90 non-null     int64         \n",
      " 11  Doanh số trên mỗi Người mua (Đơn đã xác nhận) (VND)     90 non-null     float64       \n",
      " 12  Tỷ lệ chuyển đổi                                        90 non-null     float64       \n",
      " 13  Tỷ lệ chuyển đổi (Từ Đơn đã đặt thành Đơn đã xác nhận)  90 non-null     float64       \n",
      "dtypes: datetime64[ns](1), float64(4), int64(9)\n",
      "memory usage: 10.0 KB\n"
     ]
    },
    {
     "name": "stderr",
     "output_type": "stream",
     "text": [
      "/Users/kayeng/opt/anaconda3/lib/python3.9/site-packages/openpyxl/styles/stylesheet.py:226: UserWarning: Workbook contains no default style, apply openpyxl's default\n",
      "  warn(\"Workbook contains no default style, apply openpyxl's default\")\n",
      "/Users/kayeng/opt/anaconda3/lib/python3.9/site-packages/openpyxl/styles/stylesheet.py:226: UserWarning: Workbook contains no default style, apply openpyxl's default\n",
      "  warn(\"Workbook contains no default style, apply openpyxl's default\")\n",
      "/Users/kayeng/opt/anaconda3/lib/python3.9/site-packages/openpyxl/styles/stylesheet.py:226: UserWarning: Workbook contains no default style, apply openpyxl's default\n",
      "  warn(\"Workbook contains no default style, apply openpyxl's default\")\n",
      "/var/folders/xn/dpmpz1295mbbnwf7r85k280m0000gp/T/ipykernel_20160/2315644471.py:3: FutureWarning: The default value of regex will change from True to False in a future version. In addition, single character regular expressions will *not* be treated as literal strings when regex=True.\n",
      "  df[column] = pd.to_numeric(df[column].str.replace('.', '').str.replace(',', '.'), errors='coerce')\n"
     ]
    }
   ],
   "source": [
    "# import and merge\n",
    "sale_dec = pd.read_excel(r'./Data_December/[export_report]sales_overview_20221201-20221231.xlsx', skiprows = [0,1,2])\n",
    "sale_jan = pd.read_excel(r'./Data_January/[export_report]sales_overview_20230101-20230131.xlsx', skiprows = [0,1,2])\n",
    "sale_feb = pd.read_excel(r'./Data_February/[export_report]sales_overview_20230201-20230228.xlsx',skiprows = [0,1,2])\n",
    "        \n",
    "sale_dec_jan_feb = pd.concat([sale_dec, sale_jan, sale_feb], ignore_index = True)\n",
    "    \n",
    "string_to_numeric(sale_dec_jan_feb, 'Doanh số (Đơn đã đặt) (VND)')\n",
    "string_to_numeric(sale_dec_jan_feb, 'Doanh số (Đơn đã xác nhận) (VND)')\n",
    "string_to_numeric(sale_dec_jan_feb, 'Doanh số trên mỗi Người mua (Đơn đã xác nhận) (VND)')\n",
    "    \n",
    "convert_percentage(sale_dec_jan_feb, 'Tỷ lệ chuyển đổi')\n",
    "convert_percentage(sale_dec_jan_feb, 'Tỷ lệ chuyển đổi (Từ Lượt truy cập thành Đơn được đặt)')\n",
    "convert_percentage(sale_dec_jan_feb, 'Tỷ lệ chuyển đổi (Từ Đơn đã đặt thành Đơn đã xác nhận)')   \n",
    "\n",
    "convert_datetime(sale_dec_jan_feb, 'Ngày')\n",
    "\n",
    "fill_nan(sale_dec_jan_feb)\n",
    "\n",
    "sale_dec_jan_feb.info()\n"
   ]
  },
  {
   "cell_type": "raw",
   "id": "e78d3ac5",
   "metadata": {},
   "source": [
    "Step 2: Import and Merge all order data of December, January and February into one dataframe, then clean it."
   ]
  },
  {
   "cell_type": "code",
   "execution_count": null,
   "id": "26fe2ec9",
   "metadata": {},
   "outputs": [
    {
     "name": "stdout",
     "output_type": "stream",
     "text": [
      "<class 'pandas.core.frame.DataFrame'>\n",
      "RangeIndex: 11380 entries, 0 to 11379\n",
      "Data columns (total 36 columns):\n",
      " #   Column                                                    Non-Null Count  Dtype         \n",
      "---  ------                                                    --------------  -----         \n",
      " 0   Mã đơn hàng                                               11380 non-null  object        \n",
      " 1   Mã Kiện Hàng                                              11380 non-null  object        \n",
      " 2   Ngày đặt hàng                                             11380 non-null  datetime64[ns]\n",
      " 3   Trạng Thái Đơn Hàng                                       11380 non-null  object        \n",
      " 4   Lý do hủy                                                 11380 non-null  object        \n",
      " 5   SKU sản phẩm                                              11380 non-null  int64         \n",
      " 6   Tên sản phẩm                                              11380 non-null  object        \n",
      " 7   SKU phân loại hàng                                        11380 non-null  object        \n",
      " 8   Tên phân loại hàng                                        11380 non-null  object        \n",
      " 9   Giá gốc                                                   11380 non-null  float64       \n",
      " 10  Người bán trợ giá                                         11380 non-null  float64       \n",
      " 11  Được Shopee trợ giá                                    11380 non-null  float64       \n",
      " 12  Tổng số tiền được người bán trợ giá                       11380 non-null  float64       \n",
      " 13  Giá ưu đãi                                              11380 non-null  float64       \n",
      " 14  Số lượng                                                  11380 non-null  int64         \n",
      " 15  Tổng giá bán (sản phẩm)                                   11380 non-null  float64       \n",
      " 16  Tổng giá trị đơn hàng (VND)                               11380 non-null  float64       \n",
      " 17  Mã giảm giá của Shop                                      11380 non-null  float64       \n",
      " 18  Hoàn Xu                                                   11380 non-null  float64       \n",
      " 19  Mã giảm giá của Shopee                                    11380 non-null  float64       \n",
      " 20  Chỉ tiêu Combo Khuyến Mãi                                 11380 non-null  object        \n",
      " 21  Giảm giá từ combo Shopee                                  11380 non-null  float64       \n",
      " 22  Giảm giá từ Combo của Shop                                11380 non-null  float64       \n",
      " 23  Shopee Xu được hoàn                                     11380 non-null  int64         \n",
      " 24  Số tiền được giảm khi thanh toán bằng thẻ Ghi nợ  11380 non-null  float64       \n",
      " 25  Phí vận chuyển (dự kiến)                             11380 non-null  float64       \n",
      " 26  Phí vận chuyển mà người mua trả                     11380 non-null  float64       \n",
      " 27  Phí vận chuyển tài trợ bởi Shopee (dự kiến)               11380 non-null  float64       \n",
      " 28  Phí trả hàng                                              11380 non-null  float64       \n",
      " 29  Tổng số tiền người mua thanh toán                         11380 non-null  float64       \n",
      " 30  Phương thức thanh toán                                    11380 non-null  object        \n",
      " 31  Phí cố định                                               11380 non-null  float64       \n",
      " 32  Phí Dịch Vụ                                               11380 non-null  float64       \n",
      " 33  Phí thanh toán                                            11380 non-null  float64       \n",
      " 34  Tiền ký quỹ                                               11380 non-null  float64       \n",
      " 35  Tỉnh/Thành phố                                            11380 non-null  object        \n",
      "dtypes: datetime64[ns](1), float64(22), int64(3), object(10)\n",
      "memory usage: 3.1+ MB\n"
     ]
    }
   ],
   "source": [
    "#import and merge\n",
    "orders_dec = pd.read_excel(r'./Data_December/Order.all.20221201_20221231.xlsx')\n",
    "orders_jan = pd.read_excel(r'./Data_January/Order.all.20230101_20230131.xlsx')\n",
    "orders_feb = pd.read_excel(r'./Data_February/Order.all.20230201_20230228.xlsx')\n",
    "\n",
    "orders_dec_jan_feb = pd.concat([orders_dec, orders_jan, orders_feb], ignore_index = True)\n",
    "\n",
    "#filter only neccessary columns related to products and sales (excluded delivery information)\n",
    "filtered_orders_1 = orders_dec_jan_feb.iloc[:, [0,1,2,3,4,14,15]]\n",
    "filtered_orders_2 = orders_dec_jan_feb.iloc[:, 19:42]\n",
    "filtered_orders_3 = orders_dec_jan_feb.iloc[:, [44,45,46,47,48,52]]\n",
    "filtered_orders = pd.concat([filtered_orders_1, filtered_orders_2,filtered_orders_3], axis = 1)\n",
    "\n",
    "\n",
    "convert_to_string(filtered_orders,'SKU sản phẩm')\n",
    "\n",
    "\n",
    "\n",
    "filtered_orders['Ngày đặt hàng'] = pd.to_datetime(filtered_orders['Ngày đặt hàng'], errors='coerce')\n",
    "\n",
    "fill_nan(filtered_orders)\n",
    "\n",
    "filtered_orders.info()\n",
    "\n",
    "\n"
   ]
  },
  {
   "cell_type": "raw",
   "id": "4b26a6f2",
   "metadata": {},
   "source": [
    "Step 3: Import and Merge chat data of December, January and February into one dataframe, then clean it."
   ]
  },
  {
   "cell_type": "code",
   "execution_count": null,
   "id": "fc9b5cf8",
   "metadata": {},
   "outputs": [
    {
     "name": "stdout",
     "output_type": "stream",
     "text": [
      "<class 'pandas.core.frame.DataFrame'>\n",
      "RangeIndex: 90 entries, 0 to 89\n",
      "Data columns (total 15 columns):\n",
      " #   Column                                      Non-Null Count  Dtype         \n",
      "---  ------                                      --------------  -----         \n",
      " 0   Ngày                                        90 non-null     datetime64[ns]\n",
      " 1   Lượt truy cập                               90 non-null     float64       \n",
      " 2   Lượt Chat                                   90 non-null     int64         \n",
      " 3   Lượt truy cập có chat                       90 non-null     int64         \n",
      " 4   Tỷ lệ truy cập có chat                      90 non-null     float64       \n",
      " 5   Phản Hồi Chat                               90 non-null     int64         \n",
      " 6   Chat Chưa Phản Hồi                          90 non-null     int64         \n",
      " 7   Thời Gian Phản Hồi                          81 non-null     object        \n",
      " 8   Tỷ lệ chuyển đổi (Yêu cầu phản hồi)         90 non-null     float64       \n",
      " 9   Tỷ lệ phản hồi Chat                         90 non-null     float64       \n",
      " 10  Người mua                                   90 non-null     int64         \n",
      " 11  Đơn hàng                                    90 non-null     int64         \n",
      " 12  Sản phẩm                                    90 non-null     int64         \n",
      " 13  Doanh số(₫)                                 90 non-null     int64         \n",
      " 14  Tỷ lệ chuyển đổi (Phản hồi - Đơn được đặt)  90 non-null     float64       \n",
      "dtypes: datetime64[ns](1), float64(5), int64(8), object(1)\n",
      "memory usage: 10.7+ KB\n"
     ]
    },
    {
     "name": "stderr",
     "output_type": "stream",
     "text": [
      "/var/folders/xn/dpmpz1295mbbnwf7r85k280m0000gp/T/ipykernel_20160/2315644471.py:3: FutureWarning: The default value of regex will change from True to False in a future version. In addition, single character regular expressions will *not* be treated as literal strings when regex=True.\n",
      "  df[column] = pd.to_numeric(df[column].str.replace('.', '').str.replace(',', '.'), errors='coerce')\n"
     ]
    }
   ],
   "source": [
    "#import and merge\n",
    "chat_dec = pd.read_excel(r'./Data_December/[export_report]Chat_01122022-31122022.xlsx')\n",
    "chat_jan = pd.read_excel(r'./Data_January/[export_report]Chat_01012023-31012023.xlsx')\n",
    "chat_feb = pd.read_excel(r'./Data_February/[export_report]Chat_01022023-28022023.xlsx')\n",
    "\n",
    "chat_dec_jan_feb = pd.concat([chat_dec, chat_jan, chat_feb], ignore_index = True)\n",
    "\n",
    "#convert data using the fuction created above\n",
    "string_to_numeric(chat_dec_jan_feb, 'Doanh số(₫)')\n",
    "\n",
    "convert_percentage(chat_dec_jan_feb, 'Tỷ lệ truy cập có chat')\n",
    "convert_percentage(chat_dec_jan_feb, 'Tỷ lệ chuyển đổi (Yêu cầu phản hồi)')\n",
    "convert_percentage(chat_dec_jan_feb, 'Tỷ lệ phản hồi Chat')\n",
    "convert_percentage(chat_dec_jan_feb, 'Tỷ lệ chuyển đổi (Phản hồi - Đơn được đặt)')\n",
    "\n",
    "chat_dec_jan_feb = chat_dec_jan_feb.replace('-', None)\n",
    "\n",
    "convert_datetime(chat_dec_jan_feb, 'Ngày')\n",
    "\n",
    "convert_hms_time(chat_dec_jan_feb, 'Thời Gian Phản Hồi')\n",
    "\n",
    "\n",
    "chat_dec_jan_feb.info()\n"
   ]
  },
  {
   "cell_type": "raw",
   "id": "fd72495b",
   "metadata": {},
   "source": [
    "Step 4: Import and Merge traffic overview data of December, January and February into one dataframe, then clean it."
   ]
  },
  {
   "cell_type": "code",
   "execution_count": null,
   "id": "79bfe81a",
   "metadata": {},
   "outputs": [
    {
     "name": "stdout",
     "output_type": "stream",
     "text": [
      "<class 'pandas.core.frame.DataFrame'>\n",
      "RangeIndex: 90 entries, 0 to 89\n",
      "Data columns (total 9 columns):\n",
      " #   Column                      Non-Null Count  Dtype         \n",
      "---  ------                      --------------  -----         \n",
      " 0   Ngày                        90 non-null     datetime64[ns]\n",
      " 1   Lượt xem                    90 non-null     float64       \n",
      " 2   Số lượt xem trung bình      90 non-null     float64       \n",
      " 3   Thời gian xem trung bình    90 non-null     object        \n",
      " 4   Tỉ lệ thoát trang           90 non-null     float64       \n",
      " 5   Lượt truy cập               90 non-null     float64       \n",
      " 6   Số khách truy cập mới       90 non-null     float64       \n",
      " 7   Số khách truy cập hiện tại  90 non-null     float64       \n",
      " 8   Người theo dõi mới          90 non-null     int64         \n",
      "dtypes: datetime64[ns](1), float64(6), int64(1), object(1)\n",
      "memory usage: 6.5+ KB\n"
     ]
    },
    {
     "name": "stderr",
     "output_type": "stream",
     "text": [
      "/Users/kayeng/opt/anaconda3/lib/python3.9/site-packages/openpyxl/styles/stylesheet.py:226: UserWarning: Workbook contains no default style, apply openpyxl's default\n",
      "  warn(\"Workbook contains no default style, apply openpyxl's default\")\n",
      "/Users/kayeng/opt/anaconda3/lib/python3.9/site-packages/openpyxl/styles/stylesheet.py:226: UserWarning: Workbook contains no default style, apply openpyxl's default\n",
      "  warn(\"Workbook contains no default style, apply openpyxl's default\")\n",
      "/Users/kayeng/opt/anaconda3/lib/python3.9/site-packages/openpyxl/styles/stylesheet.py:226: UserWarning: Workbook contains no default style, apply openpyxl's default\n",
      "  warn(\"Workbook contains no default style, apply openpyxl's default\")\n",
      "/var/folders/xn/dpmpz1295mbbnwf7r85k280m0000gp/T/ipykernel_20160/2315644471.py:3: FutureWarning: The default value of regex will change from True to False in a future version. In addition, single character regular expressions will *not* be treated as literal strings when regex=True.\n",
      "  df[column] = pd.to_numeric(df[column].str.replace('.', '').str.replace(',', '.'), errors='coerce')\n"
     ]
    }
   ],
   "source": [
    "#import and merge\n",
    "traffic_dec = pd.read_excel(r'./Data_December/[export_report]traffic_overview_20221201_20221231.xlsx', skiprows = [0,1,2])\n",
    "traffic_jan = pd.read_excel(r'./Data_January/[export_report]traffic_overview_20230101_20230131.xlsx', skiprows = [0,1,2])\n",
    "traffic_feb = pd.read_excel(r'./Data_February/[export_report]traffic_overview_20230201_20230228.xlsx',skiprows = [0,1,2])\n",
    "\n",
    "traffic_dec_jan_feb = pd.concat([traffic_dec, traffic_jan, traffic_feb], ignore_index = True)\n",
    "\n",
    "#convert database using the fuction created above\n",
    "string_to_numeric(traffic_dec_jan_feb, 'Số lượt xem trung bình')\n",
    "\n",
    "convert_percentage(traffic_dec_jan_feb, 'Tỉ lệ thoát trang')\n",
    "\n",
    "convert_datetime(traffic_dec_jan_feb, 'Ngày')\n",
    "\n",
    "convert_hms_time(traffic_dec_jan_feb, 'Thời gian xem trung bình')\n",
    "\n",
    "\n",
    "traffic_dec_jan_feb.info()\n",
    "\n"
   ]
  },
  {
   "cell_type": "raw",
   "id": "fb2d9d53",
   "metadata": {},
   "source": [
    "Step 5: Import and Merge product overview data of December, January and February into one dataframe, then clean it."
   ]
  },
  {
   "cell_type": "code",
   "execution_count": null,
   "id": "8e500272",
   "metadata": {},
   "outputs": [
    {
     "name": "stdout",
     "output_type": "stream",
     "text": [
      "<class 'pandas.core.frame.DataFrame'>\n",
      "RangeIndex: 90 entries, 0 to 89\n",
      "Data columns (total 22 columns):\n",
      " #   Column                                                  Non-Null Count  Dtype         \n",
      "---  ------                                                  --------------  -----         \n",
      " 0   Ngày                                                    90 non-null     datetime64[ns]\n",
      " 1   Lượt truy cập sản phẩm                                  90 non-null     int64         \n",
      " 2   Lượt xem trang sản phẩm                                 90 non-null     int64         \n",
      " 3   Sản phẩm được truy cập                                  90 non-null     int64         \n",
      " 4   Số lượng khách thoát trang sản phẩm                     90 non-null     int64         \n",
      " 5   Tỷ lệ thoát Trang sản phẩm                              90 non-null     float64       \n",
      " 6   Lượt click từ Trang tìm kiếm                            90 non-null     int64         \n",
      " 7   Lượt thích                                              90 non-null     int64         \n",
      " 8   Lượt truy cập sản phẩm (Thêm vào giỏ hàng)              90 non-null     int64         \n",
      " 9   Sản phẩm (Thêm vào giỏ hàng)                            90 non-null     int64         \n",
      " 10  Tỷ lệ chuyển đổi (theo lượt thêm vào giỏ hàng)          90 non-null     float64       \n",
      " 11  Người mua đã đặt hàng                                   90 non-null     int64         \n",
      " 12  Sản phẩm (Đơn đã đặt)                                   90 non-null     int64         \n",
      " 13  Số sản phẩm đã bán                                      90 non-null     int64         \n",
      " 14  Doanh số (Đơn đã đặt) (VND)                             90 non-null     int64         \n",
      " 15  Tỷ lệ chuyển đổi (Đơn đã đặt)                           90 non-null     float64       \n",
      " 16  Người mua có đơn đã xác nhận                            90 non-null     int64         \n",
      " 17  Sản phẩm (Đơn đã xác nhận)                              90 non-null     int64         \n",
      " 18  Sản phẩm được duyệt                                     90 non-null     int64         \n",
      " 19  Doanh số (Đơn đã xác nhận) (VND)                        90 non-null     int64         \n",
      " 20  Tỷ lệ chuyển đổi (Đơn đã xác nhận)                      90 non-null     float64       \n",
      " 21  Tỷ lệ chuyển đổi (Từ Đơn đã đặt thành Đơn đã xác nhận)  90 non-null     float64       \n",
      "dtypes: datetime64[ns](1), float64(5), int64(16)\n",
      "memory usage: 15.6 KB\n"
     ]
    },
    {
     "name": "stderr",
     "output_type": "stream",
     "text": [
      "/Users/kayeng/opt/anaconda3/lib/python3.9/site-packages/openpyxl/styles/stylesheet.py:226: UserWarning: Workbook contains no default style, apply openpyxl's default\n",
      "  warn(\"Workbook contains no default style, apply openpyxl's default\")\n",
      "/Users/kayeng/opt/anaconda3/lib/python3.9/site-packages/openpyxl/styles/stylesheet.py:226: UserWarning: Workbook contains no default style, apply openpyxl's default\n",
      "  warn(\"Workbook contains no default style, apply openpyxl's default\")\n",
      "/Users/kayeng/opt/anaconda3/lib/python3.9/site-packages/openpyxl/styles/stylesheet.py:226: UserWarning: Workbook contains no default style, apply openpyxl's default\n",
      "  warn(\"Workbook contains no default style, apply openpyxl's default\")\n",
      "/var/folders/xn/dpmpz1295mbbnwf7r85k280m0000gp/T/ipykernel_20160/2315644471.py:3: FutureWarning: The default value of regex will change from True to False in a future version. In addition, single character regular expressions will *not* be treated as literal strings when regex=True.\n",
      "  df[column] = pd.to_numeric(df[column].str.replace('.', '').str.replace(',', '.'), errors='coerce')\n"
     ]
    }
   ],
   "source": [
    "#import and merge\n",
    "product_dec = pd.read_excel(r'./Data_December/[export_report]productoverview20221201-20221231.xlsx')\n",
    "product_jan = pd.read_excel(r'./Data_January/[export_report]productoverview20230101-20230131.xlsx')\n",
    "product_feb = pd.read_excel(r'./Data_February/[export_report]productoverview20230201-20230228.xlsx')\n",
    "\n",
    "product_dec_jan_feb = pd.concat([product_dec, product_jan, product_feb], ignore_index = True)\n",
    "\n",
    "#convert database using the fuction created above\n",
    "string_to_numeric(product_dec_jan_feb, 'Doanh số (Đơn đã đặt) (VND)')\n",
    "string_to_numeric(product_dec_jan_feb, 'Doanh số (Đơn đã xác nhận) (VND)')\n",
    "\n",
    "convert_percentage(product_dec_jan_feb, 'Tỷ lệ thoát Trang sản phẩm')\n",
    "convert_percentage(product_dec_jan_feb, 'Tỷ lệ chuyển đổi (theo lượt thêm vào giỏ hàng)')\n",
    "convert_percentage(product_dec_jan_feb, 'Tỷ lệ chuyển đổi (Đơn đã đặt)')\n",
    "convert_percentage(product_dec_jan_feb, 'Tỷ lệ chuyển đổi (Đơn đã xác nhận)')\n",
    "convert_percentage(product_dec_jan_feb, 'Tỷ lệ chuyển đổi (Từ Đơn đã đặt thành Đơn đã xác nhận)')\n",
    "\n",
    "fill_nan(product_dec_jan_feb)\n",
    "\n",
    "convert_datetime(product_dec_jan_feb, 'Ngày')\n",
    "\n",
    "product_dec_jan_feb.info()\n"
   ]
  },
  {
   "cell_type": "markdown",
   "id": "bc0f8821",
   "metadata": {},
   "source": [
    "PHASE 2: Export a Pandas DataFrame from Jupyter Notebook and send it to MySQL\n",
    "In this phrase, 5 final dataframes created in phase 1 will be send to MySQL server from Jupyter Notebook."
   ]
  },
  {
   "cell_type": "code",
   "execution_count": null,
   "id": "02e9ccf4",
   "metadata": {},
   "outputs": [],
   "source": [
    "#connect to mysql\n",
    "def connection():\n",
    "    try:\n",
    "        cnn = pymysql.connect(host='localhost', user='root', port=3306, database = 'database_kaye')\n",
    "        return cnn\n",
    "    except Exception as e:\n",
    "        print('Exception connection: ', e)\n",
    "\n",
    "c = connection()\n",
    "\n",
    "#export and send to MYSQL:\n",
    "cursor = c.cursor()\n",
    "\n",
    "sales_data = sale_dec_jan_feb.values.tolist()\n",
    "query1 = \"INSERT INTO sales_overview VALUES (%s,%s,%s,%s,%s,%s,%s,%s,%s,%s,%s,%s,%s,%s)\"\n",
    "cursor.executemany(query1, sales_data)\n",
    "\n",
    "orders_data = filtered_orders.values.tolist()\n",
    "query2 = \"INSERT INTO orders_overview VALUES (%s,%s,%s,%s,%s,%s,%s,%s,%s,%s,%s,%s,%s,%s,%s,%s,%s,%s,%s,%s,%s,%s,%s,%s,%s,%s,%s,%s,%s,%s,%s,%s,%s,%s,%s,%s)\"\n",
    "cursor.executemany(query2, orders_data)\n",
    "\n",
    "chat_data = chat_dec_jan_feb.values.tolist()\n",
    "query3 = \"INSERT INTO chat_overview VALUES (%s,%s,%s,%s,%s,%s,%s,%s,%s,%s,%s,%s,%s,%s,%s)\"\n",
    "cursor.executemany(query3, chat_data)\n",
    "\n",
    "traffic_data = traffic_dec_jan_feb.values.tolist()\n",
    "query4 = \"INSERT INTO traffic_overview VALUES (%s,%s,%s,%s,%s,%s,%s,%s,%s)\"\n",
    "cursor.executemany(query4, traffic_data)\n",
    "\n",
    "product_data = product_dec_jan_feb.values.tolist()\n",
    "query5 = \"INSERT INTO product_overview VALUES (%s,%s,%s,%s,%s,%s,%s,%s,%s,%s,%s,%s,%s,%s,%s,%s,%s,%s,%s,%s,%s,%s)\"\n",
    "cursor.executemany(query5, product_data)\n",
    "\n",
    "c.commit()\n",
    "c.close()\n",
    "\n"
   ]
  }
 ],
 "metadata": {
  "kernelspec": {
   "display_name": "Python 3 (ipykernel)",
   "language": "python",
   "name": "python3"
  },
  "language_info": {
   "codemirror_mode": {
    "name": "ipython",
    "version": 3
   },
   "file_extension": ".py",
   "mimetype": "text/x-python",
   "name": "python",
   "nbconvert_exporter": "python",
   "pygments_lexer": "ipython3",
   "version": "3.9.13"
  }
 },
 "nbformat": 4,
 "nbformat_minor": 5
}
